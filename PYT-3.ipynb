{
 "cells": [
  {
   "cell_type": "markdown",
   "metadata": {},
   "source": [
    "## 02. Neural Network classification with PyTorch\n",
    "\n",
    "Classification is a problem of predicting wheather something is one thing or another (there can be multiple things as options).\n",
    "\n"
   ]
  },
  {
   "cell_type": "code",
   "execution_count": 218,
   "metadata": {},
   "outputs": [],
   "source": [
    "## 1. Make classification data and get it ready \n",
    "\n",
    "import sklearn\n",
    "from sklearn.datasets import make_circles\n",
    "\n",
    "# Make 1000 sample \n",
    "n_samples = 1000\n",
    "\n",
    "# Create circles \n",
    "X, y = make_circles(n_samples,\n",
    "                    noise = 0.03,        # it for randomness\n",
    "                    random_state=42)     # Similar to setting the random seed\n",
    "\n"
   ]
  },
  {
   "cell_type": "code",
   "execution_count": 219,
   "metadata": {},
   "outputs": [
    {
     "data": {
      "text/plain": [
       "(1000, 1000)"
      ]
     },
     "execution_count": 219,
     "metadata": {},
     "output_type": "execute_result"
    }
   ],
   "source": [
    "len(X), len(y)"
   ]
  },
  {
   "cell_type": "code",
   "execution_count": 220,
   "metadata": {},
   "outputs": [
    {
     "name": "stdout",
     "output_type": "stream",
     "text": [
      "First 5 sample of X:\n",
      " [[ 0.75424625  0.23148074]\n",
      " [-0.75615888  0.15325888]\n",
      " [-0.81539193  0.17328203]\n",
      " [-0.39373073  0.69288277]\n",
      " [ 0.44220765 -0.89672343]]\n",
      "First 5 samples of y:\n",
      " [1 1 1 1 0]\n"
     ]
    }
   ],
   "source": [
    "print(f\"First 5 sample of X:\\n {X[:5]}\")\n",
    "print(f\"First 5 samples of y:\\n {y[:5]}\")"
   ]
  },
  {
   "cell_type": "code",
   "execution_count": 221,
   "metadata": {},
   "outputs": [],
   "source": [
    "# Make  DataFrame of circle data\n",
    "import pandas as pd\n",
    "circles = pd.DataFrame({\"X1\" : X[:,0], \n",
    "                        \"X2\": X[:, 1],\n",
    "                        \"label\" : y})"
   ]
  },
  {
   "cell_type": "code",
   "execution_count": 222,
   "metadata": {},
   "outputs": [
    {
     "data": {
      "text/html": [
       "<div>\n",
       "<style scoped>\n",
       "    .dataframe tbody tr th:only-of-type {\n",
       "        vertical-align: middle;\n",
       "    }\n",
       "\n",
       "    .dataframe tbody tr th {\n",
       "        vertical-align: top;\n",
       "    }\n",
       "\n",
       "    .dataframe thead th {\n",
       "        text-align: right;\n",
       "    }\n",
       "</style>\n",
       "<table border=\"1\" class=\"dataframe\">\n",
       "  <thead>\n",
       "    <tr style=\"text-align: right;\">\n",
       "      <th></th>\n",
       "      <th>X1</th>\n",
       "      <th>X2</th>\n",
       "      <th>label</th>\n",
       "    </tr>\n",
       "  </thead>\n",
       "  <tbody>\n",
       "    <tr>\n",
       "      <th>0</th>\n",
       "      <td>0.754246</td>\n",
       "      <td>0.231481</td>\n",
       "      <td>1</td>\n",
       "    </tr>\n",
       "    <tr>\n",
       "      <th>1</th>\n",
       "      <td>-0.756159</td>\n",
       "      <td>0.153259</td>\n",
       "      <td>1</td>\n",
       "    </tr>\n",
       "    <tr>\n",
       "      <th>2</th>\n",
       "      <td>-0.815392</td>\n",
       "      <td>0.173282</td>\n",
       "      <td>1</td>\n",
       "    </tr>\n",
       "    <tr>\n",
       "      <th>3</th>\n",
       "      <td>-0.393731</td>\n",
       "      <td>0.692883</td>\n",
       "      <td>1</td>\n",
       "    </tr>\n",
       "    <tr>\n",
       "      <th>4</th>\n",
       "      <td>0.442208</td>\n",
       "      <td>-0.896723</td>\n",
       "      <td>0</td>\n",
       "    </tr>\n",
       "    <tr>\n",
       "      <th>5</th>\n",
       "      <td>-0.479646</td>\n",
       "      <td>0.676435</td>\n",
       "      <td>1</td>\n",
       "    </tr>\n",
       "    <tr>\n",
       "      <th>6</th>\n",
       "      <td>-0.013648</td>\n",
       "      <td>0.803349</td>\n",
       "      <td>1</td>\n",
       "    </tr>\n",
       "    <tr>\n",
       "      <th>7</th>\n",
       "      <td>0.771513</td>\n",
       "      <td>0.147760</td>\n",
       "      <td>1</td>\n",
       "    </tr>\n",
       "    <tr>\n",
       "      <th>8</th>\n",
       "      <td>-0.169322</td>\n",
       "      <td>-0.793456</td>\n",
       "      <td>1</td>\n",
       "    </tr>\n",
       "    <tr>\n",
       "      <th>9</th>\n",
       "      <td>-0.121486</td>\n",
       "      <td>1.021509</td>\n",
       "      <td>0</td>\n",
       "    </tr>\n",
       "  </tbody>\n",
       "</table>\n",
       "</div>"
      ],
      "text/plain": [
       "         X1        X2  label\n",
       "0  0.754246  0.231481      1\n",
       "1 -0.756159  0.153259      1\n",
       "2 -0.815392  0.173282      1\n",
       "3 -0.393731  0.692883      1\n",
       "4  0.442208 -0.896723      0\n",
       "5 -0.479646  0.676435      1\n",
       "6 -0.013648  0.803349      1\n",
       "7  0.771513  0.147760      1\n",
       "8 -0.169322 -0.793456      1\n",
       "9 -0.121486  1.021509      0"
      ]
     },
     "execution_count": 222,
     "metadata": {},
     "output_type": "execute_result"
    }
   ],
   "source": [
    "circles.head(10)"
   ]
  },
  {
   "cell_type": "code",
   "execution_count": 223,
   "metadata": {},
   "outputs": [
    {
     "data": {
      "text/plain": [
       "<matplotlib.collections.PathCollection at 0x2872b9781c0>"
      ]
     },
     "execution_count": 223,
     "metadata": {},
     "output_type": "execute_result"
    },
    {
     "data": {
      "image/png": "[encoded data removed]",
      "text/plain": [
       "<Figure size 432x288 with 1 Axes>"
      ]
     },
     "metadata": {
      "needs_background": "light"
     },
     "output_type": "display_data"
    }
   ],
   "source": [
    "# Visualize \n",
    "import matplotlib.pyplot as plt\n",
    "plt.scatter(x = X[:, 0],\n",
    "            y = X[:, 1],\n",
    "            c = y,\n",
    "            cmap = plt.cm.RdYlBu)"
   ]
  },
  {
   "cell_type": "markdown",
   "metadata": {},
   "source": [
    "**Note:** The data we're working with is often referred to as a toy dataset, a dataset that is small enough to experiment but still sizeable enough to practice the fundamentals."
   ]
  },
  {
   "cell_type": "markdown",
   "metadata": {},
   "source": [
    "## Check input and output shapes"
   ]
  },
  {
   "cell_type": "code",
   "execution_count": 224,
   "metadata": {},
   "outputs": [
    {
     "data": {
      "text/plain": [
       "((1000, 2), (1000,))"
      ]
     },
     "execution_count": 224,
     "metadata": {},
     "output_type": "execute_result"
    }
   ],
   "source": [
    "X.shape, y.shape"
   ]
  },
  {
   "cell_type": "code",
   "execution_count": 225,
   "metadata": {},
   "outputs": [
    {
     "name": "stdout",
     "output_type": "stream",
     "text": [
      "Values for one sample of X: [0.75424625 0.23148074] and the same for y: 1\n",
      "shapes for one sample of X: (2,) and same for y: ()\n"
     ]
    }
   ],
   "source": [
    "# View the first example of feature and lables\n",
    "X_sample = X[0]\n",
    "y_sample = y[0]\n",
    "\n",
    "print(f\"Values for one sample of X: {X_sample} and the same for y: {y_sample}\")\n",
    "print(f\"shapes for one sample of X: {X_sample.shape} and same for y: {y_sample.shape}\")"
   ]
  },
  {
   "cell_type": "code",
   "execution_count": 226,
   "metadata": {},
   "outputs": [
    {
     "data": {
      "text/plain": [
       "'1.11.0+cu113'"
      ]
     },
     "execution_count": 226,
     "metadata": {},
     "output_type": "execute_result"
    }
   ],
   "source": [
    "# Turn data into Tensors\n",
    "import torch \n",
    "torch.__version__"
   ]
  },
  {
   "cell_type": "code",
   "execution_count": 227,
   "metadata": {},
   "outputs": [
    {
     "data": {
      "text/plain": [
       "(tensor([[ 0.7542,  0.2315],\n",
       "         [-0.7562,  0.1533],\n",
       "         [-0.8154,  0.1733],\n",
       "         [-0.3937,  0.6929],\n",
       "         [ 0.4422, -0.8967]]),\n",
       " tensor([1., 1., 1., 1., 0.]))"
      ]
     },
     "execution_count": 227,
     "metadata": {},
     "output_type": "execute_result"
    }
   ],
   "source": [
    "X = torch.from_numpy(X).type(torch.float)  # we want our datatype of tensor to be float32 but converting from numpy to tensor is by default is float64\n",
    "y = torch.from_numpy(y).type(torch.float)\n",
    "\n",
    "X[:5], y[:5]"
   ]
  },
  {
   "cell_type": "code",
   "execution_count": 228,
   "metadata": {},
   "outputs": [
    {
     "data": {
      "text/plain": [
       "(torch.float32, torch.float32)"
      ]
     },
     "execution_count": 228,
     "metadata": {},
     "output_type": "execute_result"
    }
   ],
   "source": [
    "X.dtype, y.dtype"
   ]
  },
  {
   "cell_type": "code",
   "execution_count": 229,
   "metadata": {},
   "outputs": [],
   "source": [
    "# Split data into training and test set \n",
    "from sklearn.model_selection import train_test_split\n",
    "\n",
    "X_train, X_test, y_train, y_test = train_test_split(X, \n",
    "                                                    y,\n",
    "                                                    test_size = 0.2,\n",
    "                                                    random_state = 42) "
   ]
  },
  {
   "cell_type": "code",
   "execution_count": 230,
   "metadata": {},
   "outputs": [
    {
     "data": {
      "text/plain": [
       "(800, 200)"
      ]
     },
     "execution_count": 230,
     "metadata": {},
     "output_type": "execute_result"
    }
   ],
   "source": [
    "len(X_train), len(X_test)"
   ]
  },
  {
   "cell_type": "markdown",
   "metadata": {},
   "source": [
    "## 2. Building a model\n",
    "\n",
    "Let's build a model to classify our blue and red dots.\n",
    "\n",
    "To do so, we want to:\n",
    "1. Setup device agonistic code so our code will run on an accelerator (GPU) if there is one\n",
    "2. Construct a model (subclassing `nn.module`)\n",
    "3. Define a loss function and optimizer\n",
    "4. Create a training and test loop "
   ]
  },
  {
   "cell_type": "code",
   "execution_count": 231,
   "metadata": {},
   "outputs": [
    {
     "data": {
      "text/plain": [
       "'cuda'"
      ]
     },
     "execution_count": 231,
     "metadata": {},
     "output_type": "execute_result"
    }
   ],
   "source": [
    "# Import PyTorch and nn\n",
    "import torch\n",
    "from torch import nn\n",
    "\n",
    "# Make device agnositc code\n",
    "device = \"cuda\" if torch.cuda.is_available() else \"cpu\"\n",
    "device"
   ]
  },
  {
   "cell_type": "code",
   "execution_count": 232,
   "metadata": {},
   "outputs": [
    {
     "data": {
      "text/plain": [
       "tensor([[ 0.6579, -0.4651],\n",
       "        [ 0.6319, -0.7347],\n",
       "        [-1.0086, -0.1240],\n",
       "        ...,\n",
       "        [ 0.0157, -1.0300],\n",
       "        [ 1.0110,  0.1680],\n",
       "        [ 0.5578, -0.5709]])"
      ]
     },
     "execution_count": 232,
     "metadata": {},
     "output_type": "execute_result"
    }
   ],
   "source": [
    "X_train"
   ]
  },
  {
   "cell_type": "markdown",
   "metadata": {},
   "source": [
    "Now we've setup device agnostic code, let's create a model that:\n",
    "\n",
    "1. Subclasses `nn.module` (almost all models in PyTorch subclass `nn.module`)\n",
    "2. Create 2 `nn.Linear()` layers that are capable of handling the shapes of our data \n",
    "3. Defines a `forward()` method that outlines the forward pass (or forward computation) of the model\n",
    "4. Instantiate an instance of our model class and send it to the target `device`"
   ]
  },
  {
   "cell_type": "code",
   "execution_count": 233,
   "metadata": {},
   "outputs": [],
   "source": [
    "# 1.Construct a model that subclasses nn.Module \n",
    "class CircleModelV0(nn.Module):\n",
    "    def __init__(self):\n",
    "        super().__init__()\n",
    "        # 2. Create 2 nn.Linear layers capable of handling the shapes of our data\n",
    "        self.layer_1 = nn.Linear(in_features= 2, out_features=5)  # takes in 2 features and upscales to 5 features\n",
    "        self.layer_2 = nn.Linear(in_features= 5, out_features=1)  # takes in 5 features from previous layer and outputs a single feature (same shape as y)\n",
    "\n",
    "    # 3. define a forward()  method that outlines the forward pass\n",
    "    def forward(self,x):\n",
    "        return self.layer_2(self.layer_1(x))  # x -> layer_1 -> layer_2 -> output\n",
    "    \n",
    "# 4. Instantiate an instance of our model class and send it to the target device \n",
    "model_0 = CircleModelV0().to(device)\n"
   ]
  },
  {
   "cell_type": "code",
   "execution_count": 234,
   "metadata": {},
   "outputs": [
    {
     "data": {
      "text/plain": [
       "CircleModelV0(\n",
       "  (layer_1): Linear(in_features=2, out_features=5, bias=True)\n",
       "  (layer_2): Linear(in_features=5, out_features=1, bias=True)\n",
       ")"
      ]
     },
     "execution_count": 234,
     "metadata": {},
     "output_type": "execute_result"
    }
   ],
   "source": [
    "model_0"
   ]
  },
  {
   "cell_type": "code",
   "execution_count": 235,
   "metadata": {},
   "outputs": [
    {
     "data": {
      "text/plain": [
       "device(type='cuda', index=0)"
      ]
     },
     "execution_count": 235,
     "metadata": {},
     "output_type": "execute_result"
    }
   ],
   "source": [
    "next(model_0.parameters()).device"
   ]
  },
  {
   "cell_type": "markdown",
   "metadata": {},
   "source": [
    "### 2.1 Setup a loss function and optimizer\n",
    "\n",
    "Which loss function or optimizer should you use?\n",
    "\n",
    "Again... this is problem specific \n",
    "\n",
    "For example for regression you might want MAE or MSE (mean absolute error or mean squared error).memoryview\n",
    "\n",
    "For classification you might want binary cross entropy or categorical cross entropy\n",
    "\n",
    "As a reaminder, loss function measures how your model is performing.\n",
    "\n",
    "And for optimizers, two of the most common are SGD and Adam, however PyTorch has built in options.\n",
    "\n",
    "* For a loss function we're going to use `torch.nn.BECWithLogitsLoss()`"
   ]
  },
  {
   "cell_type": "code",
   "execution_count": 236,
   "metadata": {},
   "outputs": [],
   "source": [
    "# Setup the loss function \n",
    "# loss_fn = nn.BCELoss() # BCELoss = requires inputs to have gone through the sigmoid activation function prior to input to BCELoss\n",
    "# nn.Sequential(\n",
    "#     nn.Sigmoid(),\n",
    "#     nn.BCELoss()\n",
    "# )\n",
    "loss_fn = nn.BCEWithLogitsLoss() # BCEWithLogitsLoss() = sigmoid activaiton function built in\n",
    "\n",
    "optimizer  = torch.optim.SGD(params = model_0.parameters(),\n",
    "                             lr = 0.1)\n",
    "                             "
   ]
  },
  {
   "cell_type": "code",
   "execution_count": 237,
   "metadata": {},
   "outputs": [],
   "source": [
    "# Calculate accuracy - Out of 100 example, wht percentage does our model get right?\n",
    "def accuracy_fn(y_true, y_pred):\n",
    "    correct  = torch.eq(y_true, y_pred).sum().item()\n",
    "    acc = (correct/len(y_pred)) * 100\n",
    "    return acc"
   ]
  },
  {
   "cell_type": "code",
   "execution_count": 238,
   "metadata": {},
   "outputs": [],
   "source": [
    "# xa = torch.arange(1, 10)\n",
    "# ya = torch.arange(1, 10)\n",
    "# p = torch.eq(xa, ya).sum().item()\n",
    "# p"
   ]
  },
  {
   "cell_type": "markdown",
   "metadata": {},
   "source": [
    " ## 3. Training a model \n",
    "\n",
    " from distutils.version import LooseVersion\n",
    "from turtle import backward\n",
    "\n",
    "\n",
    "To train a model, we're going to need to build a training loop;\n",
    "\n",
    " 1. Forward pass\n",
    " 2. Calculate the LooseVersion\n",
    " 3. Optimizer zero grad\n",
    " 4. Loss backward (backpropagation)\n",
    " 5. Optimizer step (Gradient descent)\n",
    " "
   ]
  },
  {
   "cell_type": "markdown",
   "metadata": {},
   "source": [
    "### 3.1 Going from raw logits -> predictions probabilites -> Predictions labels \n",
    "\n",
    "our model outputs are going to be raw **logits**\n",
    "\n",
    "We can convert these **logits** into predictions probabilities by passing them to some kind of activation function (e.g. sigmoid for bincary classification and softmax for multiclass classification)\n",
    "\n",
    "Then we can convert our model's predictions probabilities to predictions labels by either rounding them or taking the argmax()\n",
    "\n",
    "Logits are the real output of our model before passing it to any activation function"
   ]
  },
  {
   "cell_type": "code",
   "execution_count": 239,
   "metadata": {},
   "outputs": [
    {
     "data": {
      "text/plain": [
       "tensor([[-0.1269],\n",
       "        [-0.0967],\n",
       "        [-0.1908],\n",
       "        [-0.1089],\n",
       "        [-0.1667]], device='cuda:0')"
      ]
     },
     "execution_count": 239,
     "metadata": {},
     "output_type": "execute_result"
    }
   ],
   "source": [
    "# View the first 5 outputs of the forwad pass on the test data\n",
    "model_0.eval()\n",
    "with torch.inference_mode():\n",
    "    y_logits  = model_0(X_test.to(device))[:5]\n",
    "y_logits"
   ]
  },
  {
   "cell_type": "code",
   "execution_count": 240,
   "metadata": {},
   "outputs": [
    {
     "data": {
      "text/plain": [
       "tensor([[0.4683],\n",
       "        [0.4758],\n",
       "        [0.4524],\n",
       "        [0.4728],\n",
       "        [0.4584]], device='cuda:0')"
      ]
     },
     "execution_count": 240,
     "metadata": {},
     "output_type": "execute_result"
    }
   ],
   "source": [
    "# use the sigmoid activation function on our model logits to turn them into predictions probabilities\n",
    "\n",
    "y_preds_probs = torch.sigmoid(y_logits)\n",
    "y_preds_probs"
   ]
  },
  {
   "cell_type": "markdown",
   "metadata": {},
   "source": [
    "For our predictions probabilites values, we need to perform a range-style rounding on them:\n",
    "\n",
    "* `y_preds_probs` >= 0.5, `y=1` (class 1)\n",
    "* `y_preds_probs` < 0.5, `y=0` (class 0)"
   ]
  },
  {
   "cell_type": "code",
   "execution_count": 241,
   "metadata": {},
   "outputs": [
    {
     "name": "stdout",
     "output_type": "stream",
     "text": [
      "tensor([True, True, True, True, True], device='cuda:0')\n"
     ]
    },
    {
     "data": {
      "text/plain": [
       "tensor([0., 0., 0., 0., 0.], device='cuda:0')"
      ]
     },
     "execution_count": 241,
     "metadata": {},
     "output_type": "execute_result"
    }
   ],
   "source": [
    "# Find the predicted labels\n",
    "y_preds = torch.round(y_preds_probs)\n",
    "\n",
    "# In full\n",
    "y_preds_labels = torch.round(torch.sigmoid(model_0(X_test.to(device))[:5]))\n",
    "\n",
    "# Check the equality \n",
    "print(torch.eq(y_preds.squeeze(), y_preds_labels.squeeze()))\n",
    "\n",
    "# get rid of extra dimension\n",
    "y_preds.squeeze()"
   ]
  },
  {
   "cell_type": "code",
   "execution_count": 242,
   "metadata": {},
   "outputs": [
    {
     "data": {
      "text/plain": [
       "tensor([1., 0., 1., 0., 1.])"
      ]
     },
     "execution_count": 242,
     "metadata": {},
     "output_type": "execute_result"
    }
   ],
   "source": [
    "y_test[:5]"
   ]
  },
  {
   "cell_type": "code",
   "execution_count": 243,
   "metadata": {},
   "outputs": [
    {
     "name": "stdout",
     "output_type": "stream",
     "text": [
      "Epoch: 0 | Loss: 0.69569 | Accuracy: 50.00% | Test_loss:  50.00%\n",
      "Epoch: 10 | Loss: 0.69439 | Accuracy: 58.63% | Test_loss:  54.50%\n",
      "Epoch: 20 | Loss: 0.69299 | Accuracy: 51.50% | Test_loss:  46.50%\n",
      "Epoch: 30 | Loss: 0.69481 | Accuracy: 50.00% | Test_loss:  50.00%\n",
      "Epoch: 40 | Loss: 0.69527 | Accuracy: 50.00% | Test_loss:  50.00%\n",
      "Epoch: 50 | Loss: 0.69312 | Accuracy: 42.00% | Test_loss:  50.00%\n",
      "Epoch: 60 | Loss: 0.69436 | Accuracy: 50.00% | Test_loss:  50.00%\n",
      "Epoch: 70 | Loss: 0.69487 | Accuracy: 59.00% | Test_loss:  57.50%\n",
      "Epoch: 80 | Loss: 0.69316 | Accuracy: 51.25% | Test_loss:  47.00%\n",
      "Epoch: 90 | Loss: 0.69486 | Accuracy: 50.00% | Test_loss:  50.00%\n",
      "Epoch: 100 | Loss: 0.69328 | Accuracy: 50.00% | Test_loss:  50.00%\n",
      "Epoch: 110 | Loss: 0.69459 | Accuracy: 50.00% | Test_loss:  50.00%\n",
      "Epoch: 120 | Loss: 0.69358 | Accuracy: 50.00% | Test_loss:  50.00%\n",
      "Epoch: 130 | Loss: 0.69434 | Accuracy: 50.00% | Test_loss:  50.00%\n",
      "Epoch: 140 | Loss: 0.69356 | Accuracy: 50.00% | Test_loss:  50.00%\n",
      "Epoch: 150 | Loss: 0.69400 | Accuracy: 50.00% | Test_loss:  50.00%\n",
      "Epoch: 160 | Loss: 0.69407 | Accuracy: 43.88% | Test_loss:  41.50%\n",
      "Epoch: 170 | Loss: 0.69364 | Accuracy: 46.25% | Test_loss:  45.00%\n",
      "Epoch: 180 | Loss: 0.69484 | Accuracy: 50.00% | Test_loss:  50.00%\n",
      "Epoch: 190 | Loss: 0.69299 | Accuracy: 51.75% | Test_loss:  46.00%\n",
      "Epoch: 200 | Loss: 0.69491 | Accuracy: 50.00% | Test_loss:  50.00%\n",
      "Epoch: 210 | Loss: 0.69421 | Accuracy: 50.00% | Test_loss:  50.00%\n",
      "Epoch: 220 | Loss: 0.69326 | Accuracy: 50.00% | Test_loss:  50.00%\n",
      "Epoch: 230 | Loss: 0.69525 | Accuracy: 50.00% | Test_loss:  50.00%\n",
      "Epoch: 240 | Loss: 0.69465 | Accuracy: 50.00% | Test_loss:  50.00%\n",
      "Epoch: 250 | Loss: 0.69301 | Accuracy: 50.38% | Test_loss:  48.00%\n",
      "Epoch: 260 | Loss: 0.69437 | Accuracy: 50.00% | Test_loss:  50.00%\n",
      "Epoch: 270 | Loss: 0.69544 | Accuracy: 50.00% | Test_loss:  50.00%\n",
      "Epoch: 280 | Loss: 0.69371 | Accuracy: 43.12% | Test_loss:  50.00%\n",
      "Epoch: 290 | Loss: 0.69330 | Accuracy: 48.12% | Test_loss:  45.50%\n",
      "Epoch: 300 | Loss: 0.69520 | Accuracy: 50.00% | Test_loss:  50.00%\n",
      "Epoch: 310 | Loss: 0.69445 | Accuracy: 50.00% | Test_loss:  50.00%\n",
      "Epoch: 320 | Loss: 0.69302 | Accuracy: 50.00% | Test_loss:  47.00%\n",
      "Epoch: 330 | Loss: 0.69497 | Accuracy: 50.00% | Test_loss:  50.00%\n",
      "Epoch: 340 | Loss: 0.69414 | Accuracy: 50.00% | Test_loss:  50.00%\n",
      "Epoch: 350 | Loss: 0.69355 | Accuracy: 50.00% | Test_loss:  44.50%\n",
      "Epoch: 360 | Loss: 0.69500 | Accuracy: 50.00% | Test_loss:  50.00%\n",
      "Epoch: 370 | Loss: 0.69304 | Accuracy: 49.75% | Test_loss:  40.00%\n",
      "Epoch: 380 | Loss: 0.69489 | Accuracy: 50.00% | Test_loss:  50.00%\n",
      "Epoch: 390 | Loss: 0.69310 | Accuracy: 51.88% | Test_loss:  47.00%\n",
      "Epoch: 400 | Loss: 0.69464 | Accuracy: 59.00% | Test_loss:  53.00%\n",
      "Epoch: 410 | Loss: 0.69351 | Accuracy: 49.00% | Test_loss:  47.00%\n",
      "Epoch: 420 | Loss: 0.69428 | Accuracy: 50.00% | Test_loss:  50.00%\n",
      "Epoch: 430 | Loss: 0.69364 | Accuracy: 50.00% | Test_loss:  50.00%\n",
      "Epoch: 440 | Loss: 0.69421 | Accuracy: 50.00% | Test_loss:  50.00%\n",
      "Epoch: 450 | Loss: 0.69448 | Accuracy: 50.00% | Test_loss:  50.00%\n",
      "Epoch: 460 | Loss: 0.69340 | Accuracy: 45.50% | Test_loss:  43.00%\n",
      "Epoch: 470 | Loss: 0.69501 | Accuracy: 50.00% | Test_loss:  50.00%\n",
      "Epoch: 480 | Loss: 0.69338 | Accuracy: 49.00% | Test_loss:  49.00%\n",
      "Epoch: 490 | Loss: 0.69436 | Accuracy: 47.12% | Test_loss:  47.50%\n",
      "Epoch: 500 | Loss: 0.69522 | Accuracy: 50.00% | Test_loss:  50.00%\n",
      "Epoch: 510 | Loss: 0.69315 | Accuracy: 48.25% | Test_loss:  39.00%\n",
      "Epoch: 520 | Loss: 0.69407 | Accuracy: 50.00% | Test_loss:  50.00%\n",
      "Epoch: 530 | Loss: 0.69565 | Accuracy: 50.00% | Test_loss:  50.00%\n",
      "Epoch: 540 | Loss: 0.69387 | Accuracy: 50.00% | Test_loss:  50.00%\n",
      "Epoch: 550 | Loss: 0.69321 | Accuracy: 47.38% | Test_loss:  46.00%\n",
      "Epoch: 560 | Loss: 0.69521 | Accuracy: 50.00% | Test_loss:  50.00%\n",
      "Epoch: 570 | Loss: 0.69469 | Accuracy: 41.12% | Test_loss:  43.00%\n",
      "Epoch: 580 | Loss: 0.69317 | Accuracy: 50.50% | Test_loss:  46.50%\n",
      "Epoch: 590 | Loss: 0.69481 | Accuracy: 50.00% | Test_loss:  50.00%\n",
      "Epoch: 600 | Loss: 0.69464 | Accuracy: 50.00% | Test_loss:  50.00%\n",
      "Epoch: 610 | Loss: 0.69301 | Accuracy: 50.38% | Test_loss:  47.00%\n",
      "Epoch: 620 | Loss: 0.69491 | Accuracy: 50.00% | Test_loss:  50.00%\n",
      "Epoch: 630 | Loss: 0.69374 | Accuracy: 50.00% | Test_loss:  50.00%\n",
      "Epoch: 640 | Loss: 0.69392 | Accuracy: 50.00% | Test_loss:  50.00%\n",
      "Epoch: 650 | Loss: 0.69449 | Accuracy: 50.00% | Test_loss:  50.00%\n",
      "Epoch: 660 | Loss: 0.69328 | Accuracy: 50.00% | Test_loss:  53.00%\n",
      "Epoch: 670 | Loss: 0.69472 | Accuracy: 50.00% | Test_loss:  50.00%\n",
      "Epoch: 680 | Loss: 0.69311 | Accuracy: 49.75% | Test_loss:  45.50%\n",
      "Epoch: 690 | Loss: 0.69465 | Accuracy: 50.00% | Test_loss:  50.00%\n",
      "Epoch: 700 | Loss: 0.69299 | Accuracy: 50.88% | Test_loss:  48.00%\n",
      "Epoch: 710 | Loss: 0.69489 | Accuracy: 50.00% | Test_loss:  50.00%\n",
      "Epoch: 720 | Loss: 0.69319 | Accuracy: 53.50% | Test_loss:  53.00%\n",
      "Epoch: 730 | Loss: 0.69451 | Accuracy: 50.00% | Test_loss:  50.00%\n",
      "Epoch: 740 | Loss: 0.69403 | Accuracy: 48.88% | Test_loss:  50.00%\n",
      "Epoch: 750 | Loss: 0.69337 | Accuracy: 41.50% | Test_loss:  46.00%\n",
      "Epoch: 760 | Loss: 0.69516 | Accuracy: 50.00% | Test_loss:  50.00%\n",
      "Epoch: 770 | Loss: 0.69343 | Accuracy: 50.00% | Test_loss:  50.00%\n",
      "Epoch: 780 | Loss: 0.69399 | Accuracy: 50.00% | Test_loss:  50.00%\n",
      "Epoch: 790 | Loss: 0.69526 | Accuracy: 50.00% | Test_loss:  50.00%\n",
      "Epoch: 800 | Loss: 0.69349 | Accuracy: 45.50% | Test_loss:  40.50%\n",
      "Epoch: 810 | Loss: 0.69361 | Accuracy: 47.38% | Test_loss:  47.00%\n",
      "Epoch: 820 | Loss: 0.69544 | Accuracy: 50.00% | Test_loss:  50.00%\n",
      "Epoch: 830 | Loss: 0.69416 | Accuracy: 50.00% | Test_loss:  50.00%\n",
      "Epoch: 840 | Loss: 0.69315 | Accuracy: 50.00% | Test_loss:  51.50%\n",
      "Epoch: 850 | Loss: 0.69503 | Accuracy: 50.00% | Test_loss:  50.00%\n",
      "Epoch: 860 | Loss: 0.69473 | Accuracy: 50.00% | Test_loss:  50.00%\n",
      "Epoch: 870 | Loss: 0.69309 | Accuracy: 51.50% | Test_loss:  48.00%\n",
      "Epoch: 880 | Loss: 0.69484 | Accuracy: 50.00% | Test_loss:  50.00%\n",
      "Epoch: 890 | Loss: 0.69451 | Accuracy: 46.50% | Test_loss:  50.00%\n",
      "Epoch: 900 | Loss: 0.69310 | Accuracy: 46.88% | Test_loss:  51.00%\n",
      "Epoch: 910 | Loss: 0.69512 | Accuracy: 50.00% | Test_loss:  50.00%\n",
      "Epoch: 920 | Loss: 0.69345 | Accuracy: 50.00% | Test_loss:  50.00%\n",
      "Epoch: 930 | Loss: 0.69419 | Accuracy: 46.25% | Test_loss:  49.50%\n",
      "Epoch: 940 | Loss: 0.69423 | Accuracy: 50.00% | Test_loss:  50.00%\n",
      "Epoch: 950 | Loss: 0.69345 | Accuracy: 58.50% | Test_loss:  51.50%\n",
      "Epoch: 960 | Loss: 0.69474 | Accuracy: 50.00% | Test_loss:  50.00%\n",
      "Epoch: 970 | Loss: 0.69316 | Accuracy: 50.50% | Test_loss:  46.50%\n",
      "Epoch: 980 | Loss: 0.69488 | Accuracy: 57.88% | Test_loss:  56.00%\n",
      "Epoch: 990 | Loss: 0.69314 | Accuracy: 46.75% | Test_loss:  50.00%\n"
     ]
    }
   ],
   "source": [
    "# 3.2 Building a training and testing loop\n",
    "\n",
    "torch.manual_seed(42)\n",
    "\n",
    "# set the number of epochs\n",
    "epochs = 1000\n",
    "\n",
    "# Put data to target device\n",
    "X_train, y_train = X_train.to(device), y_train.to(device)\n",
    "X_test, y_test = X_test.to(device), y_test.to(device)\n",
    "\n",
    "# Build the training and evaluation loop \n",
    "for epoch in range(epochs):\n",
    "    ### Training \n",
    "    model_0.train()\n",
    "    \n",
    "    # 1. Forward pass\n",
    "    y_logits = model_0(X_train).squeeze()\n",
    "    y_pred = torch.round(torch.sigmoid(y_logits)) # Turn logits -> pred probs -> pred labels\n",
    "\n",
    "    # 2. Calculate the loss/accuracy\n",
    "    # loss = loss_fn(torch.sigmoid(y_logits)) # nn.BCELoss expects prediction probabilities as input\n",
    "\n",
    "    loss = loss_fn(y_logits,  # nn.BCEWithLogitsLoss expects raw logits as input\n",
    "                   y_train)\n",
    "    acc = accuracy_fn(y_true = y_train,\n",
    "                    y_pred = y_pred )\n",
    "\n",
    "    # 3. Optimizer zero grad\n",
    "    optimizer.zero_grad\n",
    "\n",
    "    # 4. loss backward (backpropgation)\n",
    "    loss.backward()\n",
    "\n",
    "    # 5. optimizer step (Gradient descent)\n",
    "    optimizer.step()\n",
    "\n",
    "    ### Testing\n",
    "    model_0.eval()\n",
    "    with torch.inference_mode():\n",
    "        # 1. Forward Pass\n",
    "        test_logits = model_0(X_test).squeeze()\n",
    "        test_pred = torch.round(torch.sigmoid(test_logits))\n",
    "\n",
    "        # 2. Calculate test loss/acc\n",
    "        test_loss = loss_fn(test_logits,\n",
    "                            y_test)\n",
    "        test_acc = accuracy_fn(y_true = y_test,\n",
    "                                y_pred = test_pred)\n",
    "\n",
    "\n",
    "    # Print our what's happenin'\n",
    "    if epoch % 10 == 0:\n",
    "        print(f\"Epoch: {epoch} | Loss: {loss:.5f} | Accuracy: {acc:.2f}% | Test_loss: {test_acc: .2f}%\")\n",
    "\n"
   ]
  },
  {
   "cell_type": "markdown",
   "metadata": {},
   "source": [
    "## 4. Make predictions and evaluate the model\n",
    " \n",
    " From the metrics it looks like our model isn't learning anything ...\n",
    "\n",
    " So to inspect it let's make some predictions and make the visual!\n",
    "\n",
    " In other words, \"Visualize, Visualize, Visualize!\"\n",
    "\n",
    " To do so, we're going to imort a functin called `plot_decision_boundary()`\n",
    " "
   ]
  },
  {
   "cell_type": "code",
   "execution_count": 244,
   "metadata": {},
   "outputs": [
    {
     "name": "stdout",
     "output_type": "stream",
     "text": [
      "Download helper_functions.py\n"
     ]
    }
   ],
   "source": [
    "import requests\n",
    "from pathlib import Path\n",
    "\n",
    "# Dlownload helper functions form learn PyTorch repo(if it's not already downloaded )\n",
    "if Path(\"helper_function.py\").is_file():\n",
    "    print(\"helper_functions.py already exists, skipped download\")\n",
    "else:\n",
    "    print(\"Download helper_functions.py\")\n",
    "    request = requests.get(\"https://raw.githubusercontent.com/mrdbourke/pytorch-deep-learning/main/helper_functions.py\")\n",
    "    with open(\"helper_functions.py\", \"wb\") as f:\n",
    "        f.write(request.content) \n",
    "\n",
    "from helper_functions import plot_predictions, plot_decision_boundary"
   ]
  },
  {
   "cell_type": "code",
   "execution_count": 245,
   "metadata": {},
   "outputs": [
    {
     "data": {
      "image/png": "[encoded data removed]",
      "text/plain": [
       "<Figure size 864x432 with 2 Axes>"
      ]
     },
     "metadata": {
      "needs_background": "light"
     },
     "output_type": "display_data"
    }
   ],
   "source": [
    "# Plot decision boundary of the model \n",
    "plt.figure(figsize = (12,6))\n",
    "plt.subplot(1,2,1)\n",
    "plt.title(\"Train\")\n",
    "plot_decision_boundary(model_0, X_train, y_train)\n",
    "plt.subplot(1,2,2)\n",
    "plt.title(\"Test\")\n",
    "plot_decision_boundary(model_0, X_test, y_test)"
   ]
  },
  {
   "cell_type": "markdown",
   "metadata": {},
   "source": []
  },
  {
   "cell_type": "markdown",
   "metadata": {},
   "source": [
    "### 5. Improving a model (from a model perspective)\n",
    "* Add more layers - give the model more chances to learn about patterns in the data\n",
    "* Add more hidden units - go from 5 hidden units to 10 hidden units\n",
    "* Fit for longer\n",
    "* Changing the activation functions\n",
    "* Change the learning rate\n",
    "* Change the loss function\n",
    "* These options are all from a model's perspective because they deal directly with the model, rather than the data.\n",
    "\n",
    "And because these options are all values we (as machine learning engineers and data scientists) can change, they are referred as hyperparameters.\n",
    "\n",
    "Let's try and improve our model by:\n",
    "\n",
    "* Adding more hidden units: 5 -> 10\n",
    "* Increase the number of layers: 2 -> 3\n",
    "* Increase the number of epochs: 100 -> 1000"
   ]
  },
  {
   "cell_type": "code",
   "execution_count": 250,
   "metadata": {},
   "outputs": [
    {
     "data": {
      "text/plain": [
       "CircleModelV1(\n",
       "  (layer_1): Linear(in_features=2, out_features=10, bias=True)\n",
       "  (layer_2): Linear(in_features=10, out_features=10, bias=True)\n",
       "  (layer_3): Linear(in_features=10, out_features=2, bias=True)\n",
       ")"
      ]
     },
     "execution_count": 250,
     "metadata": {},
     "output_type": "execute_result"
    }
   ],
   "source": [
    "class CircleModelV1(nn.Module):\n",
    "   def __init__(self):\n",
    "      super().__init__()\n",
    "      self.layer_1 = nn.Linear(in_features=2, out_features=10 )\n",
    "      self.layer_2 = nn.Linear(in_features=10, out_features=10)\n",
    "      self.layer_3 = nn.Linear(in_features=10, out_features=2)\n",
    "   \n",
    "   def forward(self, x):\n",
    "      z = self.layer_1(x)\n",
    "      z = self.layer_2(z)\n",
    "      z = self.layer_3(z)\n",
    "      return z\n",
    "\n",
    "model_1 = CircleModelV1().to(device)\n",
    "model_1\n",
    "   "
   ]
  },
  {
   "cell_type": "code",
   "execution_count": null,
   "metadata": {},
   "outputs": [],
   "source": []
  }
 ],
 "metadata": {
  "kernelspec": {
   "display_name": "Python 3.8.13 ('CIFAR')",
   "language": "python",
   "name": "python3"
  },
  "language_info": {
   "codemirror_mode": {
    "name": "ipython",
    "version": 3
   },
   "file_extension": ".py",
   "mimetype": "text/x-python",
   "name": "python",
   "nbconvert_exporter": "python",
   "pygments_lexer": "ipython3",
   "version": "3.8.13"
  },
  "orig_nbformat": 4,
  "vscode": {
   "interpreter": {
    "hash": "8d935b82b5eeb2e2d2f4e79209febba080e86df3c1ee87ecb6cb21b82f83d74a"
   }
  }
 },
 "nbformat": 4,
 "nbformat_minor": 2
}
